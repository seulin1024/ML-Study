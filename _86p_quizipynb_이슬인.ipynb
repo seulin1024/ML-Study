{
  "nbformat": 4,
  "nbformat_minor": 0,
  "metadata": {
    "colab": {
      "provenance": [],
      "collapsed_sections": [],
      "include_colab_link": true
    },
    "kernelspec": {
      "name": "python3",
      "display_name": "Python 3"
    },
    "language_info": {
      "name": "python"
    }
  },
  "cells": [
    {
      "cell_type": "markdown",
      "metadata": {
        "id": "view-in-github",
        "colab_type": "text"
      },
      "source": [
        "<a href=\"https://colab.research.google.com/github/seulin1024/ML-Study/blob/master/_86p_quizipynb_%EC%9D%B4%EC%8A%AC%EC%9D%B8.ipynb\" target=\"_parent\"><img src=\"https://colab.research.google.com/assets/colab-badge.svg\" alt=\"Open In Colab\"/></a>"
      ]
    },
    {
      "cell_type": "markdown",
      "source": [
        "# 1. \n",
        "- [[target_1, length_1, weight_1], [target_2, length_2, weight_2], ...] 꼴로 만들어 보세요.(힌트: for , append 사용)\n"
      ],
      "metadata": {
        "id": "MT1WjXNhTMjc"
      }
    },
    {
      "cell_type": "code",
      "source": [
        "bream_length = [25.4, 26.3, 26.5, 29.0, 29.0, 29.7, 29.7, 30.0, 30.0, 30.7, 31.0, 31.0, \n",
        "                31.5, 32.0, 32.0, 32.0, 33.0, 33.0, 33.5, 33.5, 34.0, 34.0, 34.5, 35.0, \n",
        "                35.0, 35.0, 35.0, 36.0, 36.0, 37.0, 38.5, 38.5, 39.5, 41.0, 41.0]\n",
        "bream_weight = [242.0, 290.0, 340.0, 363.0, 430.0, 450.0, 500.0, 390.0, 450.0, 500.0, 475.0, 500.0, \n",
        "                500.0, 340.0, 600.0, 600.0, 700.0, 700.0, 610.0, 650.0, 575.0, 685.0, 620.0, 680.0, \n",
        "                700.0, 725.0, 720.0, 714.0, 850.0, 1000.0, 920.0, 955.0, 925.0, 975.0, 950.0]\n",
        "smelt_length = [9.8, 10.5, 10.6, 11.0, 11.2, 11.3, 11.8, 11.8, 12.0, 12.2, 12.4, 13.0, 14.3, 15.0]\n",
        "smelt_weight = [6.7, 7.5, 7.0, 9.7, 9.8, 8.7, 10.0, 9.9, 9.8, 12.2, 13.4, 12.2, 19.7, 19.9]\n",
        "\n",
        "fish_target = [1] * 35 + [0] * 14\n"
      ],
      "metadata": {
        "id": "dUzc-JwNMVzn"
      },
      "execution_count": null,
      "outputs": []
    },
    {
      "cell_type": "code",
      "source": [
        "bream_length = [25.4, 26.3, 26.5, 29.0, 29.0, 29.7, 29.7, 30.0, 30.0, 30.7, 31.0, 31.0, \n",
        "                31.5, 32.0, 32.0, 32.0, 33.0, 33.0, 33.5, 33.5, 34.0, 34.0, 34.5, 35.0, \n",
        "                35.0, 35.0, 35.0, 36.0, 36.0, 37.0, 38.5, 38.5, 39.5, 41.0, 41.0]\n",
        "bream_weight = [242.0, 290.0, 340.0, 363.0, 430.0, 450.0, 500.0, 390.0, 450.0, 500.0, 475.0, 500.0, \n",
        "                500.0, 340.0, 600.0, 600.0, 700.0, 700.0, 610.0, 650.0, 575.0, 685.0, 620.0, 680.0, \n",
        "                700.0, 725.0, 720.0, 714.0, 850.0, 1000.0, 920.0, 955.0, 925.0, 975.0, 950.0]\n",
        "smelt_length = [9.8, 10.5, 10.6, 11.0, 11.2, 11.3, 11.8, 11.8, 12.0, 12.2, 12.4, 13.0, 14.3, 15.0]\n",
        "smelt_weight = [6.7, 7.5, 7.0, 9.7, 9.8, 8.7, 10.0, 9.9, 9.8, 12.2, 13.4, 12.2, 19.7, 19.9]\n",
        "\n",
        "fish_length=bream_length+smelt_length\n",
        "fish_weight=bream_weight+smelt_weight\n",
        "\n",
        "fish_target = [1] * 35 + [0] * 14\n",
        "\n",
        "fish_data=[[t, l, w] for t, l, w in zip(fish_target, fish_length, fish_weight)]\n",
        "print(fish_data)"
      ],
      "metadata": {
        "id": "QNYOzfRIONzy",
        "colab": {
          "base_uri": "https://localhost:8080/"
        },
        "outputId": "8d9caa94-9c49-432f-dae9-acc48d5fcb2c"
      },
      "execution_count": 4,
      "outputs": [
        {
          "output_type": "stream",
          "name": "stdout",
          "text": [
            "[[1, 25.4, 242.0], [1, 26.3, 290.0], [1, 26.5, 340.0], [1, 29.0, 363.0], [1, 29.0, 430.0], [1, 29.7, 450.0], [1, 29.7, 500.0], [1, 30.0, 390.0], [1, 30.0, 450.0], [1, 30.7, 500.0], [1, 31.0, 475.0], [1, 31.0, 500.0], [1, 31.5, 500.0], [1, 32.0, 340.0], [1, 32.0, 600.0], [1, 32.0, 600.0], [1, 33.0, 700.0], [1, 33.0, 700.0], [1, 33.5, 610.0], [1, 33.5, 650.0], [1, 34.0, 575.0], [1, 34.0, 685.0], [1, 34.5, 620.0], [1, 35.0, 680.0], [1, 35.0, 700.0], [1, 35.0, 725.0], [1, 35.0, 720.0], [1, 36.0, 714.0], [1, 36.0, 850.0], [1, 37.0, 1000.0], [1, 38.5, 920.0], [1, 38.5, 955.0], [1, 39.5, 925.0], [1, 41.0, 975.0], [1, 41.0, 950.0], [0, 9.8, 6.7], [0, 10.5, 7.5], [0, 10.6, 7.0], [0, 11.0, 9.7], [0, 11.2, 9.8], [0, 11.3, 8.7], [0, 11.8, 10.0], [0, 11.8, 9.9], [0, 12.0, 9.8], [0, 12.2, 12.2], [0, 12.4, 13.4], [0, 13.0, 12.2], [0, 14.3, 19.7], [0, 15.0, 19.9]]\n"
          ]
        }
      ]
    },
    {
      "cell_type": "markdown",
      "source": [
        "# 2.\n",
        "- 1.에서 만든 리스트에서 target에 해당하는 값만 모아 하나의 리스트로 만들어 보세요 (힌트 :for, append 사용)"
      ],
      "metadata": {
        "id": "aHNjdNbHT0Fp"
      }
    },
    {
      "cell_type": "code",
      "source": [
        "fish_list = []\n",
        "for t,l,w in (fish_data):\n",
        "  fish_list.append(fish_data[[t]])\n",
        "print(fish_list)"
      ],
      "metadata": {
        "colab": {
          "base_uri": "https://localhost:8080/",
          "height": 223
        },
        "id": "2j3WYB8wzPEL",
        "outputId": "a8b44425-2ffc-43fd-c88d-051efcbc5143"
      },
      "execution_count": 12,
      "outputs": [
        {
          "output_type": "error",
          "ename": "TypeError",
          "evalue": "ignored",
          "traceback": [
            "\u001b[0;31m---------------------------------------------------------------------------\u001b[0m",
            "\u001b[0;31mTypeError\u001b[0m                                 Traceback (most recent call last)",
            "\u001b[0;32m<ipython-input-12-c1a6efe0dc00>\u001b[0m in \u001b[0;36m<module>\u001b[0;34m\u001b[0m\n\u001b[1;32m      1\u001b[0m \u001b[0mfish_list\u001b[0m \u001b[0;34m=\u001b[0m \u001b[0;34m[\u001b[0m\u001b[0;34m]\u001b[0m\u001b[0;34m\u001b[0m\u001b[0;34m\u001b[0m\u001b[0m\n\u001b[1;32m      2\u001b[0m \u001b[0;32mfor\u001b[0m \u001b[0mt\u001b[0m\u001b[0;34m,\u001b[0m\u001b[0ml\u001b[0m\u001b[0;34m,\u001b[0m\u001b[0mw\u001b[0m \u001b[0;32min\u001b[0m \u001b[0;34m(\u001b[0m\u001b[0mfish_data\u001b[0m\u001b[0;34m)\u001b[0m\u001b[0;34m:\u001b[0m\u001b[0;34m\u001b[0m\u001b[0;34m\u001b[0m\u001b[0m\n\u001b[0;32m----> 3\u001b[0;31m   \u001b[0mfish_list\u001b[0m\u001b[0;34m.\u001b[0m\u001b[0mappend\u001b[0m\u001b[0;34m(\u001b[0m\u001b[0mfish_data\u001b[0m\u001b[0;34m[\u001b[0m\u001b[0;34m[\u001b[0m\u001b[0mt\u001b[0m\u001b[0;34m]\u001b[0m\u001b[0;34m]\u001b[0m\u001b[0;34m)\u001b[0m\u001b[0;34m\u001b[0m\u001b[0;34m\u001b[0m\u001b[0m\n\u001b[0m\u001b[1;32m      4\u001b[0m \u001b[0mprint\u001b[0m\u001b[0;34m(\u001b[0m\u001b[0mfish_list\u001b[0m\u001b[0;34m)\u001b[0m\u001b[0;34m\u001b[0m\u001b[0;34m\u001b[0m\u001b[0m\n",
            "\u001b[0;31mTypeError\u001b[0m: list indices must be integers or slices, not list"
          ]
        }
      ]
    },
    {
      "cell_type": "markdown",
      "source": [
        "# 3.\n",
        "- [[target_1, length_1, weight_1], [target_2, length_2, weight_2], ...]에서 타깃값과 데이터 값을 따로 분리해보세요.(데이터프레임 메소드 사용 권장, 데이터 프레임 모르면 패스하셔도 좋습니다!)"
      ],
      "metadata": {
        "id": "nopg4vk0UJF1"
      }
    },
    {
      "cell_type": "markdown",
      "source": [
        "# 4.\n",
        "[생선 데이터 셋(원본 : 캐글)](https://www.kaggle.com/aungpyaeap/fish-market)  \n",
        "\n",
        "해당 링크에서 데이터를 읽어와 bream와smelt를 분류하는 모델과 perch와 roach를 분류하는 모델을 만들고 평가해보세요. 그리고 각 모델의 정확도 차이에 대해 생각해보세요.\n",
        "(특성은 length1과 length2를 선택하세요)\n",
        "\n",
        "[전반적인 과정]\n",
        "\n",
        "- 코랩에서 데이터 읽어오기(csv->dataframe형태 변환)\n",
        "\n",
        "- 원하는 형태로 데이터 프레임 가공하기\n",
        "  - 특정 조건을 만족하는 행 선택\n",
        "  - 특정 열 선택\n",
        "  - dataframe을 ndarray형식으로 변환\n",
        "\n",
        "- fit, score\n",
        "\n",
        "**데이터 프레임 관련 조작은 위의 키워드 중심으로 구글링하면 방법 나옵니다!**\n",
        "\n",
        "**약간 범위가 벗어나기 때문에 모르겠으면 그냥 오셔도 좋습니다**\n",
        "\n",
        "\n"
      ],
      "metadata": {
        "id": "PPjE1WOIUxUk"
      }
    },
    {
      "cell_type": "code",
      "source": [
        "import pandas as pd\n",
        "filename = \"/Fish.csv\"\n",
        "dataframe = pd.read_csv(filename)\n",
        "print(dataframe)"
      ],
      "metadata": {
        "colab": {
          "base_uri": "https://localhost:8080/"
        },
        "id": "cohlsx1jzvzw",
        "outputId": "204fe36c-ea95-4013-c9f3-8d63d0b12b9c"
      },
      "execution_count": 18,
      "outputs": [
        {
          "output_type": "stream",
          "name": "stdout",
          "text": [
            "    Species  Weight  Length1  Length2  Length3   Height   Width\n",
            "0     Bream   242.0     23.2     25.4     30.0  11.5200  4.0200\n",
            "1     Bream   290.0     24.0     26.3     31.2  12.4800  4.3056\n",
            "2     Bream   340.0     23.9     26.5     31.1  12.3778  4.6961\n",
            "3     Bream   363.0     26.3     29.0     33.5  12.7300  4.4555\n",
            "4     Bream   430.0     26.5     29.0     34.0  12.4440  5.1340\n",
            "..      ...     ...      ...      ...      ...      ...     ...\n",
            "154   Smelt    12.2     11.5     12.2     13.4   2.0904  1.3936\n",
            "155   Smelt    13.4     11.7     12.4     13.5   2.4300  1.2690\n",
            "156   Smelt    12.2     12.1     13.0     13.8   2.2770  1.2558\n",
            "157   Smelt    19.7     13.2     14.3     15.2   2.8728  2.0672\n",
            "158   Smelt    19.9     13.8     15.0     16.2   2.9322  1.8792\n",
            "\n",
            "[159 rows x 7 columns]\n"
          ]
        }
      ]
    },
    {
      "cell_type": "code",
      "source": [
        "species =  (dataframe.Species=='Perch') | (dataframe.Species == 'Roach')\n",
        "# species 는 해당 조건을 만족한 bool값과 위치를 반환해준다.\n",
        "df = dataframe[species]\n",
        "# 해당 위치를 dataframe의 결과값으로 확인해본다.\n",
        "print(df)\n",
        "#print(dataframe.Species == \"Perch\")"
      ],
      "metadata": {
        "colab": {
          "base_uri": "https://localhost:8080/"
        },
        "id": "Z4tJ0wmm5B8a",
        "outputId": "b1e43fa1-4c0f-4557-f8ce-2123efc1d3e2"
      },
      "execution_count": 29,
      "outputs": [
        {
          "output_type": "stream",
          "name": "stdout",
          "text": [
            "    Species  Weight  Length1  Length2  Length3   Height   Width\n",
            "35    Roach    40.0     12.9     14.1     16.2   4.1472  2.2680\n",
            "36    Roach    69.0     16.5     18.2     20.3   5.2983  2.8217\n",
            "37    Roach    78.0     17.5     18.8     21.2   5.5756  2.9044\n",
            "38    Roach    87.0     18.2     19.8     22.2   5.6166  3.1746\n",
            "39    Roach   120.0     18.6     20.0     22.2   6.2160  3.5742\n",
            "..      ...     ...      ...      ...      ...      ...     ...\n",
            "123   Perch  1100.0     39.0     42.0     44.6  12.8002  6.8684\n",
            "124   Perch  1000.0     39.8     43.0     45.2  11.9328  7.2772\n",
            "125   Perch  1100.0     40.1     43.0     45.5  12.5125  7.4165\n",
            "126   Perch  1000.0     40.2     43.5     46.0  12.6040  8.1420\n",
            "127   Perch  1000.0     41.1     44.0     46.6  12.4888  7.5958\n",
            "\n",
            "[76 rows x 7 columns]\n"
          ]
        }
      ]
    },
    {
      "cell_type": "code",
      "source": [
        "import pandas as pd\n",
        "filename = \"/Fish.csv\"\n",
        "dataframe = pd.read_csv(filename)\n",
        "species2 = (dataframe.Species == \"Bream\") | (dataframe.Species == \"Smelt\")\n",
        "df2 = dataframe[species2]\n",
        "print(df2)"
      ],
      "metadata": {
        "colab": {
          "base_uri": "https://localhost:8080/"
        },
        "id": "vTfq7vj27COj",
        "outputId": "f662ad16-2b02-4dda-ae1f-850d96560861"
      },
      "execution_count": 32,
      "outputs": [
        {
          "output_type": "stream",
          "name": "stdout",
          "text": [
            "    Species  Weight  Length1  Length2  Length3   Height   Width\n",
            "0     Bream   242.0     23.2     25.4     30.0  11.5200  4.0200\n",
            "1     Bream   290.0     24.0     26.3     31.2  12.4800  4.3056\n",
            "2     Bream   340.0     23.9     26.5     31.1  12.3778  4.6961\n",
            "3     Bream   363.0     26.3     29.0     33.5  12.7300  4.4555\n",
            "4     Bream   430.0     26.5     29.0     34.0  12.4440  5.1340\n",
            "5     Bream   450.0     26.8     29.7     34.7  13.6024  4.9274\n",
            "6     Bream   500.0     26.8     29.7     34.5  14.1795  5.2785\n",
            "7     Bream   390.0     27.6     30.0     35.0  12.6700  4.6900\n",
            "8     Bream   450.0     27.6     30.0     35.1  14.0049  4.8438\n",
            "9     Bream   500.0     28.5     30.7     36.2  14.2266  4.9594\n",
            "10    Bream   475.0     28.4     31.0     36.2  14.2628  5.1042\n",
            "11    Bream   500.0     28.7     31.0     36.2  14.3714  4.8146\n",
            "12    Bream   500.0     29.1     31.5     36.4  13.7592  4.3680\n",
            "13    Bream   340.0     29.5     32.0     37.3  13.9129  5.0728\n",
            "14    Bream   600.0     29.4     32.0     37.2  14.9544  5.1708\n",
            "15    Bream   600.0     29.4     32.0     37.2  15.4380  5.5800\n",
            "16    Bream   700.0     30.4     33.0     38.3  14.8604  5.2854\n",
            "17    Bream   700.0     30.4     33.0     38.5  14.9380  5.1975\n",
            "18    Bream   610.0     30.9     33.5     38.6  15.6330  5.1338\n",
            "19    Bream   650.0     31.0     33.5     38.7  14.4738  5.7276\n",
            "20    Bream   575.0     31.3     34.0     39.5  15.1285  5.5695\n",
            "21    Bream   685.0     31.4     34.0     39.2  15.9936  5.3704\n",
            "22    Bream   620.0     31.5     34.5     39.7  15.5227  5.2801\n",
            "23    Bream   680.0     31.8     35.0     40.6  15.4686  6.1306\n",
            "24    Bream   700.0     31.9     35.0     40.5  16.2405  5.5890\n",
            "25    Bream   725.0     31.8     35.0     40.9  16.3600  6.0532\n",
            "26    Bream   720.0     32.0     35.0     40.6  16.3618  6.0900\n",
            "27    Bream   714.0     32.7     36.0     41.5  16.5170  5.8515\n",
            "28    Bream   850.0     32.8     36.0     41.6  16.8896  6.1984\n",
            "29    Bream  1000.0     33.5     37.0     42.6  18.9570  6.6030\n",
            "30    Bream   920.0     35.0     38.5     44.1  18.0369  6.3063\n",
            "31    Bream   955.0     35.0     38.5     44.0  18.0840  6.2920\n",
            "32    Bream   925.0     36.2     39.5     45.3  18.7542  6.7497\n",
            "33    Bream   975.0     37.4     41.0     45.9  18.6354  6.7473\n",
            "34    Bream   950.0     38.0     41.0     46.5  17.6235  6.3705\n",
            "145   Smelt     6.7      9.3      9.8     10.8   1.7388  1.0476\n",
            "146   Smelt     7.5     10.0     10.5     11.6   1.9720  1.1600\n",
            "147   Smelt     7.0     10.1     10.6     11.6   1.7284  1.1484\n",
            "148   Smelt     9.7     10.4     11.0     12.0   2.1960  1.3800\n",
            "149   Smelt     9.8     10.7     11.2     12.4   2.0832  1.2772\n",
            "150   Smelt     8.7     10.8     11.3     12.6   1.9782  1.2852\n",
            "151   Smelt    10.0     11.3     11.8     13.1   2.2139  1.2838\n",
            "152   Smelt     9.9     11.3     11.8     13.1   2.2139  1.1659\n",
            "153   Smelt     9.8     11.4     12.0     13.2   2.2044  1.1484\n",
            "154   Smelt    12.2     11.5     12.2     13.4   2.0904  1.3936\n",
            "155   Smelt    13.4     11.7     12.4     13.5   2.4300  1.2690\n",
            "156   Smelt    12.2     12.1     13.0     13.8   2.2770  1.2558\n",
            "157   Smelt    19.7     13.2     14.3     15.2   2.8728  2.0672\n",
            "158   Smelt    19.9     13.8     15.0     16.2   2.9322  1.8792\n"
          ]
        }
      ]
    },
    {
      "cell_type": "code",
      "source": [
        "df = df[['Species','Length1','Length2']]\n",
        "print(df)"
      ],
      "metadata": {
        "colab": {
          "base_uri": "https://localhost:8080/"
        },
        "id": "z_W0fsi77j0V",
        "outputId": "ec70a8fd-55a5-42d3-c4fb-1f9ba8540122"
      },
      "execution_count": 36,
      "outputs": [
        {
          "output_type": "stream",
          "name": "stdout",
          "text": [
            "    Species  Length1  Length2\n",
            "35    Roach     12.9     14.1\n",
            "36    Roach     16.5     18.2\n",
            "37    Roach     17.5     18.8\n",
            "38    Roach     18.2     19.8\n",
            "39    Roach     18.6     20.0\n",
            "..      ...      ...      ...\n",
            "123   Perch     39.0     42.0\n",
            "124   Perch     39.8     43.0\n",
            "125   Perch     40.1     43.0\n",
            "126   Perch     40.2     43.5\n",
            "127   Perch     41.1     44.0\n",
            "\n",
            "[76 rows x 3 columns]\n"
          ]
        }
      ]
    },
    {
      "cell_type": "markdown",
      "source": [
        "[정답](https://colab.research.google.com/drive/1krtBa-ZJhNbKjWnBnylBZlPwbQzpH9Wl?usp=sharing)"
      ],
      "metadata": {
        "id": "D0yuvLwDXlRe"
      }
    },
    {
      "cell_type": "code",
      "source": [
        "df2 = df2[['Species','Length1','Length2']]\n",
        "print(df2)"
      ],
      "metadata": {
        "colab": {
          "base_uri": "https://localhost:8080/"
        },
        "id": "-arpdmqV7zWE",
        "outputId": "b1345e06-cca8-4d15-b7cc-80a0517f4627"
      },
      "execution_count": 37,
      "outputs": [
        {
          "output_type": "stream",
          "name": "stdout",
          "text": [
            "    Species  Length1  Length2\n",
            "0     Bream     23.2     25.4\n",
            "1     Bream     24.0     26.3\n",
            "2     Bream     23.9     26.5\n",
            "3     Bream     26.3     29.0\n",
            "4     Bream     26.5     29.0\n",
            "5     Bream     26.8     29.7\n",
            "6     Bream     26.8     29.7\n",
            "7     Bream     27.6     30.0\n",
            "8     Bream     27.6     30.0\n",
            "9     Bream     28.5     30.7\n",
            "10    Bream     28.4     31.0\n",
            "11    Bream     28.7     31.0\n",
            "12    Bream     29.1     31.5\n",
            "13    Bream     29.5     32.0\n",
            "14    Bream     29.4     32.0\n",
            "15    Bream     29.4     32.0\n",
            "16    Bream     30.4     33.0\n",
            "17    Bream     30.4     33.0\n",
            "18    Bream     30.9     33.5\n",
            "19    Bream     31.0     33.5\n",
            "20    Bream     31.3     34.0\n",
            "21    Bream     31.4     34.0\n",
            "22    Bream     31.5     34.5\n",
            "23    Bream     31.8     35.0\n",
            "24    Bream     31.9     35.0\n",
            "25    Bream     31.8     35.0\n",
            "26    Bream     32.0     35.0\n",
            "27    Bream     32.7     36.0\n",
            "28    Bream     32.8     36.0\n",
            "29    Bream     33.5     37.0\n",
            "30    Bream     35.0     38.5\n",
            "31    Bream     35.0     38.5\n",
            "32    Bream     36.2     39.5\n",
            "33    Bream     37.4     41.0\n",
            "34    Bream     38.0     41.0\n",
            "145   Smelt      9.3      9.8\n",
            "146   Smelt     10.0     10.5\n",
            "147   Smelt     10.1     10.6\n",
            "148   Smelt     10.4     11.0\n",
            "149   Smelt     10.7     11.2\n",
            "150   Smelt     10.8     11.3\n",
            "151   Smelt     11.3     11.8\n",
            "152   Smelt     11.3     11.8\n",
            "153   Smelt     11.4     12.0\n",
            "154   Smelt     11.5     12.2\n",
            "155   Smelt     11.7     12.4\n",
            "156   Smelt     12.1     13.0\n",
            "157   Smelt     13.2     14.3\n",
            "158   Smelt     13.8     15.0\n"
          ]
        }
      ]
    },
    {
      "cell_type": "code",
      "source": [
        "from sklearn.neighbors import KNeighborsClassifier"
      ],
      "metadata": {
        "id": "g1TZrKvT72ih"
      },
      "execution_count": 38,
      "outputs": []
    },
    {
      "cell_type": "code",
      "source": [
        "kn = KNeighborsClassifier()"
      ],
      "metadata": {
        "id": "85BWtPaL79mH"
      },
      "execution_count": 39,
      "outputs": []
    },
    {
      "cell_type": "code",
      "source": [
        "print(df['Species'].value_counts())\n",
        "# value_counts:각 종류마다 생선이 몇 마리가 있는지"
      ],
      "metadata": {
        "colab": {
          "base_uri": "https://localhost:8080/"
        },
        "id": "nGRSUkf47_S5",
        "outputId": "4aff6676-649e-466c-80be-3fcd667342d2"
      },
      "execution_count": 40,
      "outputs": [
        {
          "output_type": "stream",
          "name": "stdout",
          "text": [
            "Perch    56\n",
            "Roach    20\n",
            "Name: Species, dtype: int64\n"
          ]
        }
      ]
    },
    {
      "cell_type": "code",
      "source": [
        "print(df2['Species'].value_counts())"
      ],
      "metadata": {
        "colab": {
          "base_uri": "https://localhost:8080/"
        },
        "id": "9-D-Xo5Z8xC1",
        "outputId": "81b107aa-68ac-4bd4-8278-cd661ac0e7c9"
      },
      "execution_count": 41,
      "outputs": [
        {
          "output_type": "stream",
          "name": "stdout",
          "text": [
            "Bream    35\n",
            "Smelt    14\n",
            "Name: Species, dtype: int64\n"
          ]
        }
      ]
    },
    {
      "cell_type": "code",
      "source": [
        "# 각각의 종 이름을 리스트에 정렬\n",
        "fish_target = df['Species'].values\n",
        "print(fish_target)"
      ],
      "metadata": {
        "colab": {
          "base_uri": "https://localhost:8080/"
        },
        "id": "gLzRwl2m8ysP",
        "outputId": "715ce34a-b643-40bd-b87e-d07093149ac5"
      },
      "execution_count": 42,
      "outputs": [
        {
          "output_type": "stream",
          "name": "stdout",
          "text": [
            "['Roach' 'Roach' 'Roach' 'Roach' 'Roach' 'Roach' 'Roach' 'Roach' 'Roach'\n",
            " 'Roach' 'Roach' 'Roach' 'Roach' 'Roach' 'Roach' 'Roach' 'Roach' 'Roach'\n",
            " 'Roach' 'Roach' 'Perch' 'Perch' 'Perch' 'Perch' 'Perch' 'Perch' 'Perch'\n",
            " 'Perch' 'Perch' 'Perch' 'Perch' 'Perch' 'Perch' 'Perch' 'Perch' 'Perch'\n",
            " 'Perch' 'Perch' 'Perch' 'Perch' 'Perch' 'Perch' 'Perch' 'Perch' 'Perch'\n",
            " 'Perch' 'Perch' 'Perch' 'Perch' 'Perch' 'Perch' 'Perch' 'Perch' 'Perch'\n",
            " 'Perch' 'Perch' 'Perch' 'Perch' 'Perch' 'Perch' 'Perch' 'Perch' 'Perch'\n",
            " 'Perch' 'Perch' 'Perch' 'Perch' 'Perch' 'Perch' 'Perch' 'Perch' 'Perch'\n",
            " 'Perch' 'Perch' 'Perch' 'Perch']\n"
          ]
        }
      ]
    },
    {
      "cell_type": "code",
      "source": [
        "fish_data = df[['Length1','Length2']].values\n",
        "print(fish_data[:5])"
      ],
      "metadata": {
        "colab": {
          "base_uri": "https://localhost:8080/"
        },
        "id": "no3VrioK9Ccv",
        "outputId": "066a78c6-ee7e-4c00-ae90-38820944be82"
      },
      "execution_count": 44,
      "outputs": [
        {
          "output_type": "stream",
          "name": "stdout",
          "text": [
            "[[12.9 14.1]\n",
            " [16.5 18.2]\n",
            " [17.5 18.8]\n",
            " [18.2 19.8]\n",
            " [18.6 20. ]]\n"
          ]
        }
      ]
    },
    {
      "cell_type": "code",
      "source": [
        "from sklearn.model_selection import train_test_split\n",
        "X_train, X_test, y_train, y_test = train_test_split(fish_data,fish_target, stratify= fish_target, random_state=0)\n",
        "# stratify : target값으로 지정하게 되면 class 비율을 유지한 채로 데이터 셋을 split하게 된다."
      ],
      "metadata": {
        "id": "lYvD0UfG9P7b"
      },
      "execution_count": 45,
      "outputs": []
    },
    {
      "cell_type": "code",
      "source": [
        "knn_pr = KNeighborsClassifier(n_neighbors = 4).fit(X_train,y_train)\n",
        "print(knn_pr.score(X_train, y_train))\n",
        "print(knn_pr.score(X_test, y_test))"
      ],
      "metadata": {
        "colab": {
          "base_uri": "https://localhost:8080/"
        },
        "id": "a--Wzwgi92YF",
        "outputId": "64bb912a-0c99-44d1-cf7c-7c35c5a20fd5"
      },
      "execution_count": 53,
      "outputs": [
        {
          "output_type": "stream",
          "name": "stdout",
          "text": [
            "0.7719298245614035\n",
            "0.5789473684210527\n"
          ]
        }
      ]
    },
    {
      "cell_type": "code",
      "source": [],
      "metadata": {
        "id": "mnrP9AHN9_hs"
      },
      "execution_count": null,
      "outputs": []
    }
  ]
}