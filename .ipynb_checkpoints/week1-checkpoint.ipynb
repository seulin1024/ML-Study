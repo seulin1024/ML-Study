{
 "cells": [
  {
   "cell_type": "markdown",
   "id": "8885dcaa",
   "metadata": {},
   "source": [
    "# 1장 소개"
   ]
  },
  {
   "cell_type": "markdown",
   "id": "60313824",
   "metadata": {},
   "source": [
    "## 1.4 필수 라이브러리 모듈들\n",
    "### 1.4.3 SciPy"
   ]
  },
  {
   "cell_type": "code",
   "execution_count": 2,
   "id": "cf7aa38f",
   "metadata": {},
   "outputs": [
    {
     "name": "stdout",
     "output_type": "stream",
     "text": [
      "NumPy 배열:\n",
      " [[1. 0. 0. 0.]\n",
      " [0. 1. 0. 0.]\n",
      " [0. 0. 1. 0.]\n",
      " [0. 0. 0. 1.]]\n"
     ]
    }
   ],
   "source": [
    "import numpy as np\n",
    "from scipy import sparse\n",
    "\n",
    "# np.eye : 대각선 원소는 1이고 나머지는 0인 2차원 NumPy 배열을 만든다.\n",
    "eye = np.eye(4)\n",
    "print('NumPy 배열:\\n',eye)"
   ]
  },
  {
   "cell_type": "code",
   "execution_count": null,
   "id": "4cf9959a",
   "metadata": {},
   "outputs": [],
   "source": [
    "# NumPy 배열을 CSR 포맷의 SciPy 희박 행렬로 변환합니다.\n",
    "# 0이 아닌 원소만 저장됩니다."
   ]
  }
 ],
 "metadata": {
  "kernelspec": {
   "display_name": "Python 3 (ipykernel)",
   "language": "python",
   "name": "python3"
  },
  "language_info": {
   "codemirror_mode": {
    "name": "ipython",
    "version": 3
   },
   "file_extension": ".py",
   "mimetype": "text/x-python",
   "name": "python",
   "nbconvert_exporter": "python",
   "pygments_lexer": "ipython3",
   "version": "3.9.12"
  }
 },
 "nbformat": 4,
 "nbformat_minor": 5
}
