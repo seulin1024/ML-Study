{
 "cells": [
  {
   "cell_type": "markdown",
   "id": "a44e05fa",
   "metadata": {},
   "source": [
    "# Ch.2 지도학습"
   ]
  },
  {
   "cell_type": "markdown",
   "id": "f01f04d7",
   "metadata": {},
   "source": [
    "## 2.2 일반화, 과대적합, 과소적합"
   ]
  },
  {
   "cell_type": "markdown",
   "id": "13fd9bd3",
   "metadata": {},
   "source": [
    "* 회귀 : 예상 출력 값 사이에 연속성이 있는 것\n",
    "* 분류 예) 웹사이트가 어떤 언어로 되어있는지 인식하는 작업 <br><br>\n",
    "\n",
    "* 이진분류 : 두개의 클래스로 분류 (ex. 예/아니오) <br><br>\n",
    "\n",
    "* 다중 분류 : 셋 이상의 클래스로 분류 (ex. 붓꽃 분류) <br><br>\n",
    "\n",
    "- 일반화 : 모델이 처음 보는 데이터에 대해 정확하게 예측할 수 있는 것 <br><br>\n",
    "\n",
    "- 과대적합 : 가진 정보를 모두 사용해서 너무 복잡한 모델을 만드는 것 <br><br>\n",
    "모델이 훈련 세트의 각 샘플에 너무 가깝게 맞춰져서 새로운 데이터에 일반화되기 어렵다. <br><br>\n",
    "\n",
    "- 과소적합 : 모델이 너무 간단한 경우\n",
    "\n"
   ]
  },
  {
   "cell_type": "markdown",
   "id": "61db3f3d",
   "metadata": {},
   "source": [
    "## 2.3 지도 학습 알고리즘"
   ]
  },
  {
   "cell_type": "markdown",
   "id": "bee62c93",
   "metadata": {},
   "source": [
    "- forge Dataset"
   ]
  },
  {
   "cell_type": "code",
   "execution_count": 7,
   "id": "2e2a6089",
   "metadata": {},
   "outputs": [],
   "source": [
    "import mglearn\n",
    "import pandas as pd\n",
    "import numpy as np\n",
    "import matplotlib.pyplot as plt"
   ]
  },
  {
   "cell_type": "markdown",
   "id": "d85c039c",
   "metadata": {},
   "source": [
    "- 오류 메시지 해결 방안 못찾음(그래프는 제대로 출력됨)\n",
    "- 한글깨짐도 해결해야함"
   ]
  },
  {
   "cell_type": "code",
   "execution_count": 8,
   "id": "9f344bc1",
   "metadata": {},
   "outputs": [
    {
     "name": "stdout",
     "output_type": "stream",
     "text": [
      "X.shape: (26, 2)\n"
     ]
    },
    {
     "name": "stderr",
     "output_type": "stream",
     "text": [
      "/opt/anaconda3/lib/python3.9/site-packages/sklearn/utils/deprecation.py:87: FutureWarning: Function make_blobs is deprecated; Please import make_blobs directly from scikit-learn\n",
      "  warnings.warn(msg, category=FutureWarning)\n"
     ]
    },
    {
     "data": {
      "image/png": "[encoded data removed]",
      "text/plain": [
       "<Figure size 432x288 with 1 Axes>"
      ]
     },
     "metadata": {
      "needs_background": "light"
     },
     "output_type": "display_data"
    }
   ],
   "source": [
    "# 데이터셋을 만듭니다.\n",
    "X,y = mglearn.datasets.make_forge()\n",
    "# 산점도를 그립니다.\n",
    "mglearn.discrete_scatter(X[:,0], X[:,1],y)\n",
    "plt.legend([\"Class 0\",\"Class 1\"], loc = 4)\n",
    "plt.xlabel(\"First\")\n",
    "plt.ylabel(\"Second\")\n",
    "print(\"X.shape:\",X.shape)"
   ]
  },
  {
   "cell_type": "code",
   "execution_count": 11,
   "id": "ca5b0015",
   "metadata": {},
   "outputs": [
    {
     "data": {
      "text/plain": [
       "Text(0, 0.5, 'Target')"
      ]
     },
     "execution_count": 11,
     "metadata": {},
     "output_type": "execute_result"
    },
    {
     "data": {
      "image/png": "[encoded data removed]",
      "text/plain": [
       "<Figure size 432x288 with 1 Axes>"
      ]
     },
     "metadata": {
      "needs_background": "light"
     },
     "output_type": "display_data"
    }
   ],
   "source": [
    "X,y = mglearn.datasets.make_wave(n_samples=40)\n",
    "plt.plot(X,y,'o')\n",
    "plt.ylim(-3,3)\n",
    "plt.xlabel(\"Character\")\n",
    "plt.ylabel(\"Target\")"
   ]
  },
  {
   "cell_type": "code",
   "execution_count": null,
   "id": "3a298854",
   "metadata": {},
   "outputs": [],
   "source": []
  },
  {
   "cell_type": "code",
   "execution_count": null,
   "id": "e32b026f",
   "metadata": {},
   "outputs": [],
   "source": []
  },
  {
   "cell_type": "code",
   "execution_count": null,
   "id": "9f29d1ab",
   "metadata": {},
   "outputs": [],
   "source": []
  },
  {
   "cell_type": "code",
   "execution_count": null,
   "id": "49cc0c23",
   "metadata": {},
   "outputs": [],
   "source": []
  },
  {
   "cell_type": "code",
   "execution_count": null,
   "id": "57622e94",
   "metadata": {},
   "outputs": [],
   "source": []
  },
  {
   "cell_type": "code",
   "execution_count": null,
   "id": "fc37b686",
   "metadata": {},
   "outputs": [],
   "source": []
  },
  {
   "cell_type": "code",
   "execution_count": null,
   "id": "53a195ab",
   "metadata": {},
   "outputs": [],
   "source": []
  },
  {
   "cell_type": "code",
   "execution_count": null,
   "id": "3a023c2f",
   "metadata": {},
   "outputs": [],
   "source": []
  }
 ],
 "metadata": {
  "kernelspec": {
   "display_name": "Python 3 (ipykernel)",
   "language": "python",
   "name": "python3"
  },
  "language_info": {
   "codemirror_mode": {
    "name": "ipython",
    "version": 3
   },
   "file_extension": ".py",
   "mimetype": "text/x-python",
   "name": "python",
   "nbconvert_exporter": "python",
   "pygments_lexer": "ipython3",
   "version": "3.9.12"
  }
 },
 "nbformat": 4,
 "nbformat_minor": 5
}
